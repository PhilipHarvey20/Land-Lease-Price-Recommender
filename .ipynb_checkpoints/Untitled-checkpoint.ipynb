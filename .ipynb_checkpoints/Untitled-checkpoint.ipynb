{
 "cells": [
  {
   "cell_type": "code",
   "execution_count": null,
   "id": "b5f7a3ad-ce7b-4fe3-937c-9ff1062a7f5c",
   "metadata": {},
   "outputs": [],
   "source": [
    "# be careful of gaps, for example the condition that the total annual price is < 1k will leave out some \n",
    "def final_price(DURATION_days, TOTAL_ANNUAL_PRICE, ACREAGE):\n",
    "    if DURATION_days <= 5:\n",
    "        return (TOTAL_ANNUAL_PRICE * .05) * DURATION_days\n",
    "    if 5 < DURATION_days <= 10:\n",
    "        return (TOTAL_ANNUAL_PRICE * .04) * DURATION_days\n",
    "    \n",
    "    if 10 < DURATION_days <= 30 and ACREAGE <= 20:\n",
    "        return (TOTAL_ANNUAL_PRICE * .03) * DURATION_days\n",
    "    if 10 < DURATION_days <= 30 and ACREAGE >20:\n",
    "        return (TOTAL_ANNUAL_PRICE * .038) * DURATION_days\n",
    "    \n",
    "    if 30 < DURATION_days <= 60 and ACREAGE > 0:\n",
    "        return (TOTAL_ANNUAL_PRICE * .02) * DURATION_days\n",
    "    \n",
    "    if 60 < DURATION_days <= 120 and TOTAL_ANNUAL_PRICE <= 1000 and ACREAGE <= 20:\n",
    "        return (TOTAL_ANNUAL_PRICE * .01) * DURATION_days\n",
    "    if 60 < DURATION_days <= 120 and TOTAL_ANNUAL_PRICE <= 1000 and 20< ACREAGE <= 100:\n",
    "        return (TOTAL_ANNUAL_PRICE * .015) * DURATION_days\n",
    "    if 60 < DURATION_days <= 120 and ACREAGE > 100:\n",
    "        return (TOTAL_ANNUAL_PRICE * .010) * DURATION_days\n",
    "    \n",
    "    if 120 < DURATION_days <= 365 and ACREAGE <= 100:\n",
    "        return (TOTAL_ANNUAL_PRICE * .006) * DURATION_days\n",
    "    if 120 < DURATION_days <= 365 and ACREAGE > 100:\n",
    "        return (TOTAL_ANNUAL_PRICE * .004) * DURATION_days\n",
    "    \n",
    "    if 365 < DURATION_days and ACREAGE <= 100:\n",
    "        return (TOTAL_ANNUAL_PRICE * .004) * DURATION_days\n",
    "    if 365 < DURATION_days and ACREAGE > 100:\n",
    "        return (TOTAL_ANNUAL_PRICE * .002) * DURATION_days\n"
   ]
  }
 ],
 "metadata": {
  "kernelspec": {
   "display_name": "Python 3 (ipykernel)",
   "language": "python",
   "name": "python3"
  },
  "language_info": {
   "codemirror_mode": {
    "name": "ipython",
    "version": 3
   },
   "file_extension": ".py",
   "mimetype": "text/x-python",
   "name": "python",
   "nbconvert_exporter": "python",
   "pygments_lexer": "ipython3",
   "version": "3.9.7"
  }
 },
 "nbformat": 4,
 "nbformat_minor": 5
}
