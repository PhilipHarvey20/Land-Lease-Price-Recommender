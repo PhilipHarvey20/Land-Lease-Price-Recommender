{
 "cells": [
  {
   "cell_type": "markdown",
   "id": "264c9740-fa41-4492-9de5-db15fef62e02",
   "metadata": {},
   "source": [
    "# LAND LEASE PRICE RECOMMENDER"
   ]
  },
  {
   "cell_type": "markdown",
   "id": "b2139837-c377-4fe6-a8a6-e770148a22b5",
   "metadata": {},
   "source": [
    "### Import dependencies"
   ]
  },
  {
   "cell_type": "code",
   "execution_count": 1,
   "id": "bfaaa257-51f5-47c0-a836-5e815d5edc1b",
   "metadata": {},
   "outputs": [],
   "source": [
    "#import libraries\n",
    "import pandas as pd \n",
    "import numpy as np\n",
    "import random\n",
    "import math\n",
    "#import source data\n",
    "url_1 = 'https://raw.githubusercontent.com/PhilipHarvey20/Land-Lease-Price-Generator/master/acreage_price_by_state.csv'"
   ]
  },
  {
   "cell_type": "markdown",
   "id": "1f306c31-2201-4608-8c09-5ed51104c530",
   "metadata": {
    "tags": []
   },
   "source": [
    "### How features contribute to price"
   ]
  },
  {
   "cell_type": "code",
   "execution_count": 2,
   "id": "c0be9a3a-326c-4829-913d-889c143d6d18",
   "metadata": {
    "jp-MarkdownHeadingCollapsed": true,
    "tags": []
   },
   "outputs": [],
   "source": [
    "#  BASE_STATE_PRC_HUNTING: avg price per acre by state\n",
    "#  Minimum of $65 for daily hunts\n",
    "#  ACREAGE_PRICE_DAILY: ((log(acreage)) * (BASE_STATE_PRC_HUNTING))/30"
   ]
  },
  {
   "cell_type": "markdown",
   "id": "cffb0c9f-8fd7-4778-8f6f-6bf28de1065c",
   "metadata": {
    "tags": []
   },
   "source": [
    "### Create dataframe"
   ]
  },
  {
   "cell_type": "code",
   "execution_count": 3,
   "id": "76c4f459-2c23-409e-a76e-43cc667f5e45",
   "metadata": {
    "tags": []
   },
   "outputs": [],
   "source": [
    "# import csv\n",
    "df = pd.read_csv(url_1)\n",
    "# Create list of 50 unique states from the imported csv\n",
    "STATE_LIST = df['STATE'].to_list()\n",
    "# Create state price per acre lookup to join onto dataframe later\n",
    "STATE_PRC_PER_ACRE_LOOKUP = df.drop_duplicates()\n",
    "# Generate dataframe of 10k random states with base acreage price per state\n",
    "random_list_10k_states = [STATE_LIST[random.randrange(len(STATE_LIST))] for i in range(10000)]\n",
    "df = pd.DataFrame (random_list_10k_states, columns = ['STATE'])"
   ]
  },
  {
   "cell_type": "code",
   "execution_count": 4,
   "id": "5e2c5fd2-f076-4e80-a675-086b730aa404",
   "metadata": {},
   "outputs": [
    {
     "data": {
      "text/plain": [
       "(10000, 1)"
      ]
     },
     "execution_count": 4,
     "metadata": {},
     "output_type": "execute_result"
    }
   ],
   "source": [
    "df.shape"
   ]
  },
  {
   "cell_type": "code",
   "execution_count": 5,
   "id": "f2ac2f8d-3172-473b-b79a-f915ef5c5820",
   "metadata": {},
   "outputs": [
    {
     "data": {
      "text/plain": [
       "(10000, 2)"
      ]
     },
     "execution_count": 5,
     "metadata": {},
     "output_type": "execute_result"
    }
   ],
   "source": [
    "cols = ['STATE']\n",
    "df = df.join(STATE_PRC_PER_ACRE_LOOKUP.set_index(cols), on=cols)\n",
    "df.shape"
   ]
  },
  {
   "cell_type": "code",
   "execution_count": 6,
   "id": "c260d52d-c027-44ea-9c1d-2334036b1cd9",
   "metadata": {},
   "outputs": [
    {
     "data": {
      "text/plain": [
       "(10000, 2)"
      ]
     },
     "execution_count": 6,
     "metadata": {},
     "output_type": "execute_result"
    }
   ],
   "source": [
    "df.shape"
   ]
  },
  {
   "cell_type": "markdown",
   "id": "349b4310-91e7-4623-9c24-2ea65940899a",
   "metadata": {},
   "source": [
    "### Populate df with activity type, acreage, duration, and price"
   ]
  },
  {
   "cell_type": "code",
   "execution_count": 7,
   "id": "b8f167e6-4f66-471d-a4a8-507caef6842f",
   "metadata": {
    "tags": []
   },
   "outputs": [],
   "source": [
    "# rename column\n",
    "df.rename(columns = {'STATE_PRC_PER_ACRE':'BASE_STATE_PRC_HUNTING'},inplace = True)\n",
    "\n",
    "# Randomly populate activities \n",
    "activities = ['HUNTING','FISHING','CAMPING','HIKING','METAL DETECTING','FARMING','SHED ANTLERS','ARTIFACT HUNTING']\n",
    "df['ACTIVITY_TYPE'] = np.random.choice(list(activities), len(df))\n",
    "\n",
    "# Randomly populate acreages \n",
    "df['ACREAGE'] = np.random.randint(1, 200, df.shape[0])\n",
    "\n",
    "# Calculate ACREAGE_PRICE_DAILY using the following formula: (log(acreage) * (base_state_price))/30\n",
    "df['ACREAGE_PRICE_DAILY'] = np.nan\n",
    "df['LOG2_BASE_STATE_PRC_HUNTING'] = np.log2(df.BASE_STATE_PRC_HUNTING)\n",
    "df['LOG_BASE_STATE_PRC_HUNTING'] = np.log(df.BASE_STATE_PRC_HUNTING)\n",
    "df.loc[df['ACTIVITY_TYPE']=='HUNTING', ['ACREAGE_PRICE_DAILY']] = df['LOG2_BASE_STATE_PRC_HUNTING'] * df['ACREAGE']\n",
    "df['ACREAGE_PRICE_DAILY'] = (df['ACREAGE_PRICE_DAILY'].div(30).round(2)) + 10\n",
    "\n",
    "# Randomly generate duration (i.e. # of days rented)\n",
    "df['DURATION_days'] = np.random.randint(1, 365, df.shape[0])\n",
    "# reorder df columns\n",
    "df = df[['ACTIVITY_TYPE','STATE','DURATION_days','BASE_STATE_PRC_HUNTING','ACREAGE','ACREAGE_PRICE_DAILY', 'LOG_BASE_STATE_PRC_HUNTING','LOG2_BASE_STATE_PRC_HUNTING']]"
   ]
  },
  {
   "cell_type": "markdown",
   "id": "788431f2-d5a8-478d-811a-23fd2b2b1b79",
   "metadata": {
    "tags": []
   },
   "source": [
    "### Apply duration discount"
   ]
  },
  {
   "cell_type": "markdown",
   "id": "950f6a3f-d533-438c-857c-c360209f72d7",
   "metadata": {
    "tags": []
   },
   "source": [
    "### Create duration discount up to 200 days (reaches maximum of 60% off at day 200)"
   ]
  },
  {
   "cell_type": "markdown",
   "id": "a4dd55a5-0ba0-4f6c-82ea-4d3656175b1b",
   "metadata": {},
   "source": [
    "Duration discount increases by .3% every day"
   ]
  },
  {
   "cell_type": "code",
   "execution_count": 8,
   "id": "b392657c-8d20-430f-a246-d753b691df41",
   "metadata": {
    "tags": []
   },
   "outputs": [],
   "source": [
    "duration_discount_multiplier = []\n",
    "DURATION_days = []\n",
    "x = .003\n",
    "for day_num in range(200):\n",
    "    DURATION_days.append(day_num)\n",
    "    x += .003\n",
    "    duration_discount_multiplier.append(1 - x)\n",
    "duration_discount_multiplier = pd.DataFrame (duration_discount_multiplier, columns = ['duration_discount_multiplier'])\n",
    "DURATION_days  = pd.DataFrame (DURATION_days, columns = ['DURATION_days'])\n",
    "duration_discount_multiplier = duration_discount_multiplier.join(DURATION_days)\n",
    "duration_discount_multiplier = duration_discount_multiplier[['DURATION_days','duration_discount_multiplier']]\n",
    "df.shape\n",
    "cols = ['DURATION_days']\n",
    "df = df.join(duration_discount_multiplier.set_index(cols), on=cols)\n",
    "df.loc[df['DURATION_days']>=200, ['duration_discount_multiplier']] = .397\n",
    "df['TOTAL_ACREAGE_PRICE'] = (df['DURATION_days'] * df['ACREAGE_PRICE_DAILY'] * df['duration_discount_multiplier']).round(2)\n",
    "# reorder df columns\n",
    "df = df[['ACTIVITY_TYPE','STATE','BASE_STATE_PRC_HUNTING','ACREAGE_PRICE_DAILY', 'LOG_BASE_STATE_PRC_HUNTING','LOG2_BASE_STATE_PRC_HUNTING','duration_discount_multiplier','DURATION_days','ACREAGE', 'TOTAL_ACREAGE_PRICE']]"
   ]
  },
  {
   "cell_type": "markdown",
   "id": "705797f0-8774-47c4-a308-931fcc3eefc5",
   "metadata": {
    "tags": []
   },
   "source": [
    "### Set minimum daily hunting price to 65"
   ]
  },
  {
   "cell_type": "code",
   "execution_count": 9,
   "id": "36ac1b80-a479-406d-a30c-2745d98c4cbc",
   "metadata": {},
   "outputs": [],
   "source": [
    "# Set the minimum daily acreage price to $60\n",
    "df['TOTAL_ACREAGE_PRICE'] = np.where((df['ACTIVITY_TYPE']=='HUNTING') & (df['TOTAL_ACREAGE_PRICE']<60), 60, df['TOTAL_ACREAGE_PRICE']) "
   ]
  },
  {
   "cell_type": "code",
   "execution_count": 10,
   "id": "865a9c36-98f4-4ee5-8a69-de77bf992436",
   "metadata": {},
   "outputs": [],
   "source": [
    "HUNTING = df[df['ACTIVITY_TYPE']=='HUNTING']"
   ]
  },
  {
   "cell_type": "code",
   "execution_count": 11,
   "id": "b97c8f3e-0897-44a8-9c2a-ef2afc2f8f06",
   "metadata": {},
   "outputs": [
    {
     "data": {
      "text/plain": [
       "<AxesSubplot:xlabel='ACREAGE', ylabel='TOTAL_ACREAGE_PRICE'>"
      ]
     },
     "execution_count": 11,
     "metadata": {},
     "output_type": "execute_result"
    },
    {
     "data": {
      "image/png": "[encoded data removed]",
      "text/plain": [
       "<Figure size 576x360 with 1 Axes>"
      ]
     },
     "metadata": {
      "needs_background": "light"
     },
     "output_type": "display_data"
    }
   ],
   "source": [
    "HUNTING.plot(kind='scatter', x='ACREAGE', y='TOTAL_ACREAGE_PRICE', s=1, c='crimson', figsize=(8, 5))"
   ]
  },
  {
   "cell_type": "code",
   "execution_count": 12,
   "id": "85124c00-c192-47ba-98d1-3054a60f2521",
   "metadata": {},
   "outputs": [
    {
     "data": {
      "text/plain": [
       "<AxesSubplot:xlabel='DURATION_days', ylabel='TOTAL_ACREAGE_PRICE'>"
      ]
     },
     "execution_count": 12,
     "metadata": {},
     "output_type": "execute_result"
    },
    {
     "data": {
      "image/png": "[encoded data removed]",
      "text/plain": [
       "<Figure size 576x360 with 1 Axes>"
      ]
     },
     "metadata": {
      "needs_background": "light"
     },
     "output_type": "display_data"
    }
   ],
   "source": [
    "HUNTING.plot(kind='scatter', x='DURATION_days', y='TOTAL_ACREAGE_PRICE', s=1, c='crimson', figsize=(8, 5))"
   ]
  },
  {
   "cell_type": "code",
   "execution_count": 13,
   "id": "8032aced-83a8-4ef7-a031-fe3e9600a09c",
   "metadata": {},
   "outputs": [
    {
     "data": {
      "text/html": [
       "<div>\n",
       "<style scoped>\n",
       "    .dataframe tbody tr th:only-of-type {\n",
       "        vertical-align: middle;\n",
       "    }\n",
       "\n",
       "    .dataframe tbody tr th {\n",
       "        vertical-align: top;\n",
       "    }\n",
       "\n",
       "    .dataframe thead th {\n",
       "        text-align: right;\n",
       "    }\n",
       "</style>\n",
       "<table border=\"1\" class=\"dataframe\">\n",
       "  <thead>\n",
       "    <tr style=\"text-align: right;\">\n",
       "      <th></th>\n",
       "      <th>ACTIVITY_TYPE</th>\n",
       "      <th>STATE</th>\n",
       "      <th>BASE_STATE_PRC_HUNTING</th>\n",
       "      <th>ACREAGE_PRICE_DAILY</th>\n",
       "      <th>LOG_BASE_STATE_PRC_HUNTING</th>\n",
       "      <th>LOG2_BASE_STATE_PRC_HUNTING</th>\n",
       "      <th>duration_discount_multiplier</th>\n",
       "      <th>DURATION_days</th>\n",
       "      <th>ACREAGE</th>\n",
       "      <th>TOTAL_ACREAGE_PRICE</th>\n",
       "    </tr>\n",
       "  </thead>\n",
       "  <tbody>\n",
       "    <tr>\n",
       "      <th>13</th>\n",
       "      <td>HUNTING</td>\n",
       "      <td>Washington</td>\n",
       "      <td>10.0</td>\n",
       "      <td>31.59</td>\n",
       "      <td>2.302585</td>\n",
       "      <td>3.321928</td>\n",
       "      <td>0.938</td>\n",
       "      <td>152</td>\n",
       "      <td>195</td>\n",
       "      <td>4503.98</td>\n",
       "    </tr>\n",
       "    <tr>\n",
       "      <th>33</th>\n",
       "      <td>HUNTING</td>\n",
       "      <td>Iowa</td>\n",
       "      <td>35.0</td>\n",
       "      <td>17.86</td>\n",
       "      <td>3.555348</td>\n",
       "      <td>5.129283</td>\n",
       "      <td>0.397</td>\n",
       "      <td>255</td>\n",
       "      <td>46</td>\n",
       "      <td>1808.06</td>\n",
       "    </tr>\n",
       "    <tr>\n",
       "      <th>50</th>\n",
       "      <td>HUNTING</td>\n",
       "      <td>Colorado</td>\n",
       "      <td>10.0</td>\n",
       "      <td>10.44</td>\n",
       "      <td>2.302585</td>\n",
       "      <td>3.321928</td>\n",
       "      <td>1.184</td>\n",
       "      <td>70</td>\n",
       "      <td>4</td>\n",
       "      <td>865.27</td>\n",
       "    </tr>\n",
       "    <tr>\n",
       "      <th>53</th>\n",
       "      <td>HUNTING</td>\n",
       "      <td>Tennessee</td>\n",
       "      <td>8.5</td>\n",
       "      <td>21.94</td>\n",
       "      <td>2.140066</td>\n",
       "      <td>3.087463</td>\n",
       "      <td>1.220</td>\n",
       "      <td>58</td>\n",
       "      <td>116</td>\n",
       "      <td>1552.47</td>\n",
       "    </tr>\n",
       "    <tr>\n",
       "      <th>54</th>\n",
       "      <td>HUNTING</td>\n",
       "      <td>California</td>\n",
       "      <td>10.0</td>\n",
       "      <td>13.76</td>\n",
       "      <td>2.302585</td>\n",
       "      <td>3.321928</td>\n",
       "      <td>1.031</td>\n",
       "      <td>121</td>\n",
       "      <td>34</td>\n",
       "      <td>1716.57</td>\n",
       "    </tr>\n",
       "    <tr>\n",
       "      <th>65</th>\n",
       "      <td>HUNTING</td>\n",
       "      <td>Missouri</td>\n",
       "      <td>25.0</td>\n",
       "      <td>14.33</td>\n",
       "      <td>3.218876</td>\n",
       "      <td>4.643856</td>\n",
       "      <td>0.839</td>\n",
       "      <td>185</td>\n",
       "      <td>28</td>\n",
       "      <td>2224.23</td>\n",
       "    </tr>\n",
       "    <tr>\n",
       "      <th>91</th>\n",
       "      <td>HUNTING</td>\n",
       "      <td>South Dakota</td>\n",
       "      <td>5.0</td>\n",
       "      <td>20.22</td>\n",
       "      <td>1.609438</td>\n",
       "      <td>2.321928</td>\n",
       "      <td>1.175</td>\n",
       "      <td>73</td>\n",
       "      <td>132</td>\n",
       "      <td>1734.37</td>\n",
       "    </tr>\n",
       "    <tr>\n",
       "      <th>96</th>\n",
       "      <td>HUNTING</td>\n",
       "      <td>New York</td>\n",
       "      <td>19.0</td>\n",
       "      <td>16.37</td>\n",
       "      <td>2.944439</td>\n",
       "      <td>4.247928</td>\n",
       "      <td>0.397</td>\n",
       "      <td>322</td>\n",
       "      <td>45</td>\n",
       "      <td>2092.64</td>\n",
       "    </tr>\n",
       "    <tr>\n",
       "      <th>100</th>\n",
       "      <td>HUNTING</td>\n",
       "      <td>West Virginia</td>\n",
       "      <td>11.0</td>\n",
       "      <td>24.18</td>\n",
       "      <td>2.397895</td>\n",
       "      <td>3.459432</td>\n",
       "      <td>1.370</td>\n",
       "      <td>8</td>\n",
       "      <td>123</td>\n",
       "      <td>265.01</td>\n",
       "    </tr>\n",
       "    <tr>\n",
       "      <th>104</th>\n",
       "      <td>HUNTING</td>\n",
       "      <td>Idaho</td>\n",
       "      <td>10.0</td>\n",
       "      <td>26.61</td>\n",
       "      <td>2.302585</td>\n",
       "      <td>3.321928</td>\n",
       "      <td>0.397</td>\n",
       "      <td>299</td>\n",
       "      <td>150</td>\n",
       "      <td>3158.69</td>\n",
       "    </tr>\n",
       "    <tr>\n",
       "      <th>108</th>\n",
       "      <td>HUNTING</td>\n",
       "      <td>Florida</td>\n",
       "      <td>10.0</td>\n",
       "      <td>12.33</td>\n",
       "      <td>2.302585</td>\n",
       "      <td>3.321928</td>\n",
       "      <td>0.863</td>\n",
       "      <td>177</td>\n",
       "      <td>21</td>\n",
       "      <td>1883.42</td>\n",
       "    </tr>\n",
       "    <tr>\n",
       "      <th>112</th>\n",
       "      <td>HUNTING</td>\n",
       "      <td>North Dakota</td>\n",
       "      <td>10.0</td>\n",
       "      <td>26.06</td>\n",
       "      <td>2.302585</td>\n",
       "      <td>3.321928</td>\n",
       "      <td>0.397</td>\n",
       "      <td>220</td>\n",
       "      <td>145</td>\n",
       "      <td>2276.08</td>\n",
       "    </tr>\n",
       "    <tr>\n",
       "      <th>120</th>\n",
       "      <td>HUNTING</td>\n",
       "      <td>Nevada</td>\n",
       "      <td>10.0</td>\n",
       "      <td>19.41</td>\n",
       "      <td>2.302585</td>\n",
       "      <td>3.321928</td>\n",
       "      <td>1.325</td>\n",
       "      <td>23</td>\n",
       "      <td>85</td>\n",
       "      <td>591.52</td>\n",
       "    </tr>\n",
       "    <tr>\n",
       "      <th>128</th>\n",
       "      <td>HUNTING</td>\n",
       "      <td>Kansas</td>\n",
       "      <td>9.0</td>\n",
       "      <td>17.71</td>\n",
       "      <td>2.197225</td>\n",
       "      <td>3.169925</td>\n",
       "      <td>1.340</td>\n",
       "      <td>18</td>\n",
       "      <td>73</td>\n",
       "      <td>427.17</td>\n",
       "    </tr>\n",
       "    <tr>\n",
       "      <th>136</th>\n",
       "      <td>HUNTING</td>\n",
       "      <td>New Hampshire</td>\n",
       "      <td>10.0</td>\n",
       "      <td>28.60</td>\n",
       "      <td>2.302585</td>\n",
       "      <td>3.321928</td>\n",
       "      <td>0.397</td>\n",
       "      <td>340</td>\n",
       "      <td>168</td>\n",
       "      <td>3860.43</td>\n",
       "    </tr>\n",
       "    <tr>\n",
       "      <th>147</th>\n",
       "      <td>HUNTING</td>\n",
       "      <td>Nebraska</td>\n",
       "      <td>5.0</td>\n",
       "      <td>16.11</td>\n",
       "      <td>1.609438</td>\n",
       "      <td>2.321928</td>\n",
       "      <td>0.397</td>\n",
       "      <td>200</td>\n",
       "      <td>79</td>\n",
       "      <td>1279.13</td>\n",
       "    </tr>\n",
       "    <tr>\n",
       "      <th>155</th>\n",
       "      <td>HUNTING</td>\n",
       "      <td>Maine</td>\n",
       "      <td>10.0</td>\n",
       "      <td>27.05</td>\n",
       "      <td>2.302585</td>\n",
       "      <td>3.321928</td>\n",
       "      <td>0.800</td>\n",
       "      <td>198</td>\n",
       "      <td>154</td>\n",
       "      <td>4284.72</td>\n",
       "    </tr>\n",
       "    <tr>\n",
       "      <th>160</th>\n",
       "      <td>HUNTING</td>\n",
       "      <td>Michigan</td>\n",
       "      <td>21.0</td>\n",
       "      <td>13.51</td>\n",
       "      <td>3.044522</td>\n",
       "      <td>4.392317</td>\n",
       "      <td>0.397</td>\n",
       "      <td>292</td>\n",
       "      <td>24</td>\n",
       "      <td>1566.13</td>\n",
       "    </tr>\n",
       "    <tr>\n",
       "      <th>162</th>\n",
       "      <td>HUNTING</td>\n",
       "      <td>Idaho</td>\n",
       "      <td>10.0</td>\n",
       "      <td>28.49</td>\n",
       "      <td>2.302585</td>\n",
       "      <td>3.321928</td>\n",
       "      <td>0.397</td>\n",
       "      <td>262</td>\n",
       "      <td>167</td>\n",
       "      <td>2963.36</td>\n",
       "    </tr>\n",
       "    <tr>\n",
       "      <th>165</th>\n",
       "      <td>HUNTING</td>\n",
       "      <td>Michigan</td>\n",
       "      <td>21.0</td>\n",
       "      <td>37.96</td>\n",
       "      <td>3.044522</td>\n",
       "      <td>4.392317</td>\n",
       "      <td>0.884</td>\n",
       "      <td>170</td>\n",
       "      <td>191</td>\n",
       "      <td>5704.63</td>\n",
       "    </tr>\n",
       "    <tr>\n",
       "      <th>166</th>\n",
       "      <td>HUNTING</td>\n",
       "      <td>Arkansas</td>\n",
       "      <td>11.0</td>\n",
       "      <td>10.23</td>\n",
       "      <td>2.397895</td>\n",
       "      <td>3.459432</td>\n",
       "      <td>1.058</td>\n",
       "      <td>112</td>\n",
       "      <td>2</td>\n",
       "      <td>1212.21</td>\n",
       "    </tr>\n",
       "    <tr>\n",
       "      <th>170</th>\n",
       "      <td>HUNTING</td>\n",
       "      <td>Ohio</td>\n",
       "      <td>28.5</td>\n",
       "      <td>38.68</td>\n",
       "      <td>3.349904</td>\n",
       "      <td>4.832890</td>\n",
       "      <td>0.397</td>\n",
       "      <td>241</td>\n",
       "      <td>178</td>\n",
       "      <td>3700.79</td>\n",
       "    </tr>\n",
       "    <tr>\n",
       "      <th>179</th>\n",
       "      <td>HUNTING</td>\n",
       "      <td>Idaho</td>\n",
       "      <td>10.0</td>\n",
       "      <td>31.70</td>\n",
       "      <td>2.302585</td>\n",
       "      <td>3.321928</td>\n",
       "      <td>0.397</td>\n",
       "      <td>236</td>\n",
       "      <td>196</td>\n",
       "      <td>2970.04</td>\n",
       "    </tr>\n",
       "    <tr>\n",
       "      <th>184</th>\n",
       "      <td>HUNTING</td>\n",
       "      <td>Arkansas</td>\n",
       "      <td>11.0</td>\n",
       "      <td>19.23</td>\n",
       "      <td>2.397895</td>\n",
       "      <td>3.459432</td>\n",
       "      <td>0.397</td>\n",
       "      <td>333</td>\n",
       "      <td>80</td>\n",
       "      <td>2542.23</td>\n",
       "    </tr>\n",
       "    <tr>\n",
       "      <th>193</th>\n",
       "      <td>HUNTING</td>\n",
       "      <td>California</td>\n",
       "      <td>10.0</td>\n",
       "      <td>13.88</td>\n",
       "      <td>2.302585</td>\n",
       "      <td>3.321928</td>\n",
       "      <td>0.397</td>\n",
       "      <td>259</td>\n",
       "      <td>35</td>\n",
       "      <td>1427.18</td>\n",
       "    </tr>\n",
       "    <tr>\n",
       "      <th>195</th>\n",
       "      <td>HUNTING</td>\n",
       "      <td>Tennessee</td>\n",
       "      <td>8.5</td>\n",
       "      <td>13.19</td>\n",
       "      <td>2.140066</td>\n",
       "      <td>3.087463</td>\n",
       "      <td>1.079</td>\n",
       "      <td>105</td>\n",
       "      <td>31</td>\n",
       "      <td>1494.36</td>\n",
       "    </tr>\n",
       "    <tr>\n",
       "      <th>198</th>\n",
       "      <td>HUNTING</td>\n",
       "      <td>Illinois</td>\n",
       "      <td>25.0</td>\n",
       "      <td>30.90</td>\n",
       "      <td>3.218876</td>\n",
       "      <td>4.643856</td>\n",
       "      <td>0.397</td>\n",
       "      <td>280</td>\n",
       "      <td>135</td>\n",
       "      <td>3434.84</td>\n",
       "    </tr>\n",
       "    <tr>\n",
       "      <th>202</th>\n",
       "      <td>HUNTING</td>\n",
       "      <td>Wyoming</td>\n",
       "      <td>10.0</td>\n",
       "      <td>11.99</td>\n",
       "      <td>2.302585</td>\n",
       "      <td>3.321928</td>\n",
       "      <td>1.265</td>\n",
       "      <td>43</td>\n",
       "      <td>18</td>\n",
       "      <td>652.20</td>\n",
       "    </tr>\n",
       "    <tr>\n",
       "      <th>205</th>\n",
       "      <td>HUNTING</td>\n",
       "      <td>Nebraska</td>\n",
       "      <td>5.0</td>\n",
       "      <td>15.73</td>\n",
       "      <td>1.609438</td>\n",
       "      <td>2.321928</td>\n",
       "      <td>0.397</td>\n",
       "      <td>249</td>\n",
       "      <td>74</td>\n",
       "      <td>1554.96</td>\n",
       "    </tr>\n",
       "    <tr>\n",
       "      <th>231</th>\n",
       "      <td>HUNTING</td>\n",
       "      <td>Indiana</td>\n",
       "      <td>19.0</td>\n",
       "      <td>31.81</td>\n",
       "      <td>2.944439</td>\n",
       "      <td>4.247928</td>\n",
       "      <td>0.397</td>\n",
       "      <td>312</td>\n",
       "      <td>154</td>\n",
       "      <td>3940.11</td>\n",
       "    </tr>\n",
       "  </tbody>\n",
       "</table>\n",
       "</div>"
      ],
      "text/plain": [
       "    ACTIVITY_TYPE          STATE  BASE_STATE_PRC_HUNTING  ACREAGE_PRICE_DAILY  \\\n",
       "13        HUNTING     Washington                    10.0                31.59   \n",
       "33        HUNTING           Iowa                    35.0                17.86   \n",
       "50        HUNTING       Colorado                    10.0                10.44   \n",
       "53        HUNTING      Tennessee                     8.5                21.94   \n",
       "54        HUNTING     California                    10.0                13.76   \n",
       "65        HUNTING       Missouri                    25.0                14.33   \n",
       "91        HUNTING   South Dakota                     5.0                20.22   \n",
       "96        HUNTING       New York                    19.0                16.37   \n",
       "100       HUNTING  West Virginia                    11.0                24.18   \n",
       "104       HUNTING          Idaho                    10.0                26.61   \n",
       "108       HUNTING        Florida                    10.0                12.33   \n",
       "112       HUNTING   North Dakota                    10.0                26.06   \n",
       "120       HUNTING         Nevada                    10.0                19.41   \n",
       "128       HUNTING         Kansas                     9.0                17.71   \n",
       "136       HUNTING  New Hampshire                    10.0                28.60   \n",
       "147       HUNTING       Nebraska                     5.0                16.11   \n",
       "155       HUNTING          Maine                    10.0                27.05   \n",
       "160       HUNTING       Michigan                    21.0                13.51   \n",
       "162       HUNTING          Idaho                    10.0                28.49   \n",
       "165       HUNTING       Michigan                    21.0                37.96   \n",
       "166       HUNTING       Arkansas                    11.0                10.23   \n",
       "170       HUNTING           Ohio                    28.5                38.68   \n",
       "179       HUNTING          Idaho                    10.0                31.70   \n",
       "184       HUNTING       Arkansas                    11.0                19.23   \n",
       "193       HUNTING     California                    10.0                13.88   \n",
       "195       HUNTING      Tennessee                     8.5                13.19   \n",
       "198       HUNTING       Illinois                    25.0                30.90   \n",
       "202       HUNTING        Wyoming                    10.0                11.99   \n",
       "205       HUNTING       Nebraska                     5.0                15.73   \n",
       "231       HUNTING        Indiana                    19.0                31.81   \n",
       "\n",
       "     LOG_BASE_STATE_PRC_HUNTING  LOG2_BASE_STATE_PRC_HUNTING  \\\n",
       "13                     2.302585                     3.321928   \n",
       "33                     3.555348                     5.129283   \n",
       "50                     2.302585                     3.321928   \n",
       "53                     2.140066                     3.087463   \n",
       "54                     2.302585                     3.321928   \n",
       "65                     3.218876                     4.643856   \n",
       "91                     1.609438                     2.321928   \n",
       "96                     2.944439                     4.247928   \n",
       "100                    2.397895                     3.459432   \n",
       "104                    2.302585                     3.321928   \n",
       "108                    2.302585                     3.321928   \n",
       "112                    2.302585                     3.321928   \n",
       "120                    2.302585                     3.321928   \n",
       "128                    2.197225                     3.169925   \n",
       "136                    2.302585                     3.321928   \n",
       "147                    1.609438                     2.321928   \n",
       "155                    2.302585                     3.321928   \n",
       "160                    3.044522                     4.392317   \n",
       "162                    2.302585                     3.321928   \n",
       "165                    3.044522                     4.392317   \n",
       "166                    2.397895                     3.459432   \n",
       "170                    3.349904                     4.832890   \n",
       "179                    2.302585                     3.321928   \n",
       "184                    2.397895                     3.459432   \n",
       "193                    2.302585                     3.321928   \n",
       "195                    2.140066                     3.087463   \n",
       "198                    3.218876                     4.643856   \n",
       "202                    2.302585                     3.321928   \n",
       "205                    1.609438                     2.321928   \n",
       "231                    2.944439                     4.247928   \n",
       "\n",
       "     duration_discount_multiplier  DURATION_days  ACREAGE  TOTAL_ACREAGE_PRICE  \n",
       "13                          0.938            152      195              4503.98  \n",
       "33                          0.397            255       46              1808.06  \n",
       "50                          1.184             70        4               865.27  \n",
       "53                          1.220             58      116              1552.47  \n",
       "54                          1.031            121       34              1716.57  \n",
       "65                          0.839            185       28              2224.23  \n",
       "91                          1.175             73      132              1734.37  \n",
       "96                          0.397            322       45              2092.64  \n",
       "100                         1.370              8      123               265.01  \n",
       "104                         0.397            299      150              3158.69  \n",
       "108                         0.863            177       21              1883.42  \n",
       "112                         0.397            220      145              2276.08  \n",
       "120                         1.325             23       85               591.52  \n",
       "128                         1.340             18       73               427.17  \n",
       "136                         0.397            340      168              3860.43  \n",
       "147                         0.397            200       79              1279.13  \n",
       "155                         0.800            198      154              4284.72  \n",
       "160                         0.397            292       24              1566.13  \n",
       "162                         0.397            262      167              2963.36  \n",
       "165                         0.884            170      191              5704.63  \n",
       "166                         1.058            112        2              1212.21  \n",
       "170                         0.397            241      178              3700.79  \n",
       "179                         0.397            236      196              2970.04  \n",
       "184                         0.397            333       80              2542.23  \n",
       "193                         0.397            259       35              1427.18  \n",
       "195                         1.079            105       31              1494.36  \n",
       "198                         0.397            280      135              3434.84  \n",
       "202                         1.265             43       18               652.20  \n",
       "205                         0.397            249       74              1554.96  \n",
       "231                         0.397            312      154              3940.11  "
      ]
     },
     "execution_count": 13,
     "metadata": {},
     "output_type": "execute_result"
    }
   ],
   "source": [
    "df[df['ACTIVITY_TYPE']=='HUNTING'].head(30)"
   ]
  },
  {
   "cell_type": "code",
   "execution_count": null,
   "id": "3350c4f6-0fc2-4b33-a962-1955616fe435",
   "metadata": {},
   "outputs": [],
   "source": []
  }
 ],
 "metadata": {
  "kernelspec": {
   "display_name": "Python 3 (ipykernel)",
   "language": "python",
   "name": "python3"
  },
  "language_info": {
   "codemirror_mode": {
    "name": "ipython",
    "version": 3
   },
   "file_extension": ".py",
   "mimetype": "text/x-python",
   "name": "python",
   "nbconvert_exporter": "python",
   "pygments_lexer": "ipython3",
   "version": "3.9.7"
  }
 },
 "nbformat": 4,
 "nbformat_minor": 5
}
